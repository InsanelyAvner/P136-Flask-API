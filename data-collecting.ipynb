{
 "cells": [
  {
   "cell_type": "markdown",
   "metadata": {},
   "source": [
    "### Processing Data\n",
    "This set of codes will convert data from the dataframe into a list"
   ]
  },
  {
   "cell_type": "code",
   "execution_count": 1,
   "metadata": {},
   "outputs": [
    {
     "data": {
      "text/html": [
       "<div>\n",
       "<style scoped>\n",
       "    .dataframe tbody tr th:only-of-type {\n",
       "        vertical-align: middle;\n",
       "    }\n",
       "\n",
       "    .dataframe tbody tr th {\n",
       "        vertical-align: top;\n",
       "    }\n",
       "\n",
       "    .dataframe thead th {\n",
       "        text-align: right;\n",
       "    }\n",
       "</style>\n",
       "<table border=\"1\" class=\"dataframe\">\n",
       "  <thead>\n",
       "    <tr style=\"text-align: right;\">\n",
       "      <th></th>\n",
       "      <th>Unnamed: 0.1</th>\n",
       "      <th>Unnamed: 0</th>\n",
       "      <th>Star_name</th>\n",
       "      <th>Distance</th>\n",
       "      <th>Mass</th>\n",
       "      <th>Radius</th>\n",
       "      <th>Gravity</th>\n",
       "    </tr>\n",
       "  </thead>\n",
       "  <tbody>\n",
       "    <tr>\n",
       "      <th>0</th>\n",
       "      <td>0</td>\n",
       "      <td>0</td>\n",
       "      <td>Sun</td>\n",
       "      <td>0.000016</td>\n",
       "      <td>1.0</td>\n",
       "      <td>1.00</td>\n",
       "      <td>274.269161</td>\n",
       "    </tr>\n",
       "    <tr>\n",
       "      <th>1</th>\n",
       "      <td>1</td>\n",
       "      <td>1</td>\n",
       "      <td>Sirius</td>\n",
       "      <td>8.600000</td>\n",
       "      <td>2.1</td>\n",
       "      <td>1.71</td>\n",
       "      <td>196.971800</td>\n",
       "    </tr>\n",
       "    <tr>\n",
       "      <th>2</th>\n",
       "      <td>3</td>\n",
       "      <td>3</td>\n",
       "      <td>Alpha Centauri</td>\n",
       "      <td>4.400000</td>\n",
       "      <td>1.1</td>\n",
       "      <td>1.20</td>\n",
       "      <td>209.511165</td>\n",
       "    </tr>\n",
       "    <tr>\n",
       "      <th>3</th>\n",
       "      <td>12</td>\n",
       "      <td>12</td>\n",
       "      <td>Altair</td>\n",
       "      <td>17.000000</td>\n",
       "      <td>1.8</td>\n",
       "      <td>1.80</td>\n",
       "      <td>152.371756</td>\n",
       "    </tr>\n",
       "    <tr>\n",
       "      <th>4</th>\n",
       "      <td>18</td>\n",
       "      <td>18</td>\n",
       "      <td>Fomalhaut</td>\n",
       "      <td>25.000000</td>\n",
       "      <td>1.9</td>\n",
       "      <td>1.80</td>\n",
       "      <td>160.836854</td>\n",
       "    </tr>\n",
       "  </tbody>\n",
       "</table>\n",
       "</div>"
      ],
      "text/plain": [
       "   Unnamed: 0.1  Unnamed: 0       Star_name   Distance  Mass  Radius  \\\n",
       "0             0           0             Sun   0.000016   1.0    1.00   \n",
       "1             1           1          Sirius   8.600000   2.1    1.71   \n",
       "2             3           3  Alpha Centauri   4.400000   1.1    1.20   \n",
       "3            12          12          Altair  17.000000   1.8    1.80   \n",
       "4            18          18       Fomalhaut  25.000000   1.9    1.80   \n",
       "\n",
       "      Gravity  \n",
       "0  274.269161  \n",
       "1  196.971800  \n",
       "2  209.511165  \n",
       "3  152.371756  \n",
       "4  160.836854  "
      ]
     },
     "execution_count": 1,
     "metadata": {},
     "output_type": "execute_result"
    }
   ],
   "source": [
    "import pandas as pd\n",
    "\n",
    "df = pd.read_csv(\"https://res.cloudinary.com/avner-king/raw/upload/v1657529916/stars_filtered_P134_fd4zjo.csv\")\n",
    "df.head()"
   ]
  },
  {
   "cell_type": "code",
   "execution_count": 4,
   "metadata": {},
   "outputs": [
    {
     "data": {
      "text/plain": [
       "[{'name': 'Sun',\n",
       "  'distance_from_earth': 1.5813e-05,\n",
       "  'mass': 1.0,\n",
       "  'radius': 1.0,\n",
       "  'gravity': 274.2691614595739},\n",
       " {'name': 'Sirius',\n",
       "  'distance_from_earth': 8.6,\n",
       "  'mass': 2.1,\n",
       "  'radius': 1.71,\n",
       "  'gravity': 196.971799550325},\n",
       " {'name': 'Alpha Centauri',\n",
       "  'distance_from_earth': 4.4,\n",
       "  'mass': 1.1,\n",
       "  'radius': 1.2,\n",
       "  'gravity': 209.51116500384123}]"
      ]
     },
     "execution_count": 4,
     "metadata": {},
     "output_type": "execute_result"
    }
   ],
   "source": [
    "final_planet_list = []\n",
    "\n",
    "for planet_data in df.values.tolist():\n",
    "    temp_dict = {\n",
    "        \"name\": planet_data[2],\n",
    "        \"distance_from_earth\": planet_data[3],\n",
    "        \"mass\": planet_data[4],\n",
    "        \"radius\": planet_data[5],\n",
    "        \"gravity\": planet_data[6],\n",
    "    }\n",
    "\n",
    "    final_planet_list.append(temp_dict)\n",
    "\n",
    "final_planet_list[:3]"
   ]
  },
  {
   "cell_type": "markdown",
   "metadata": {},
   "source": [
    "Full data can be found in `data.py`"
   ]
  }
 ],
 "metadata": {
  "kernelspec": {
   "display_name": "Python 3.8.6 64-bit",
   "language": "python",
   "name": "python3"
  },
  "language_info": {
   "codemirror_mode": {
    "name": "ipython",
    "version": 3
   },
   "file_extension": ".py",
   "mimetype": "text/x-python",
   "name": "python",
   "nbconvert_exporter": "python",
   "pygments_lexer": "ipython3",
   "version": "3.8.6"
  },
  "orig_nbformat": 4,
  "vscode": {
   "interpreter": {
    "hash": "cdf0b1678182075f8b571813d335cad2842b6b05d2bea80e91beebaef19527f9"
   }
  }
 },
 "nbformat": 4,
 "nbformat_minor": 2
}
